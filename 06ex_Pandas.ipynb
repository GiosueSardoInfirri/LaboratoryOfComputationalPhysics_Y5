{
 "cells": [
  {
   "cell_type": "markdown",
   "metadata": {},
   "source": [
    "## Pandas analysis\n",
    "\n",
    "This exercise consists in analyzing a dataset containg timing information from a series of Time-to-Digital-Converters (TDC) implemented in a couple of FPGAs. Each measurement (i.e. each row of the input file) consists of a flag that specifies the type of message ('HEAD', which in this case is always 1), two addresses of the TDC providing the signal ('FPGA' and 'TDC_CHANNEL'), and the timing information ('ORBIT_CNT', 'BX_COUNTER', and 'TDC_MEAS'). Each TDC count corresponds to $\\frac{25}{30}$ ns, whereas a unit of BX_COUNTER corresponds to 25 ns, and the ORBIT_CNT is increased every 'x' BX_COUNTER. This allows to store the time in a similar way to hours, minutes and seconds."
   ]
  },
  {
   "cell_type": "code",
   "execution_count": 81,
   "metadata": {},
   "outputs": [],
   "source": [
    "# If you didn't download it yet, please get the relevant file now!\n",
    "# !wget https://www.dropbox.com/s/xvjzaxzz3ysphme/data_000637.txt -P ~/data/\n",
    "\n",
    "#import antigravity"
   ]
  },
  {
   "cell_type": "markdown",
   "metadata": {},
   "source": [
    "1\\. Create a Pandas DataFrame reading N rows of the 'data_000637.txt' dataset. Choose N to be smaller than or equal to the maximum number of rows and larger that 10k."
   ]
  },
  {
   "cell_type": "code",
   "execution_count": 82,
   "metadata": {},
   "outputs": [],
   "source": [
    "import pandas as pd\n",
    "import numpy as np"
   ]
  },
  {
   "cell_type": "markdown",
   "metadata": {},
   "source": [
    "2\\. Find out the number of BX in a ORBIT (the value 'x')."
   ]
  },
  {
   "cell_type": "code",
   "execution_count": 83,
   "metadata": {},
   "outputs": [
    {
     "name": "stdout",
     "output_type": "stream",
     "text": [
      "3564\n"
     ]
    }
   ],
   "source": [
    "file_name=\"/home/giosue/data/data_000637.txt\"\n",
    "data=pd.read_csv(file_name)\n",
    "N = 15000\n",
    "\n",
    "dataN = data[:N]\n",
    "\n",
    "x = max(dataN['BX_COUNTER']) + 1\n",
    "print(x)\n"
   ]
  },
  {
   "cell_type": "markdown",
   "metadata": {},
   "source": [
    "3\\. Find out how much the data taking lasted. You can either make an estimate based on the fraction of the measurements (rows) you read, or perform this check precisely by reading out the whole dataset."
   ]
  },
  {
   "cell_type": "code",
   "execution_count": 84,
   "metadata": {},
   "outputs": [
    {
     "name": "stdout",
     "output_type": "stream",
     "text": [
      "Time in ns: 980447230.0\n",
      "Time in seconds: 0.9804472300000001\n"
     ]
    }
   ],
   "source": [
    "data['timens']=data['TDC_MEAS']*25/30+data['BX_COUNTER']*25\n",
    "\n",
    "maxns = max(data['timens'])\n",
    "orbits = data['ORBIT_CNT'][len(data['ORBIT_CNT'])-1] - data['ORBIT_CNT'][0]\n",
    "\n",
    "print('Time in ns:', maxns*orbits)\n",
    "print('Time in seconds:', maxns*orbits*1e-9)\n"
   ]
  },
  {
   "cell_type": "markdown",
   "metadata": {},
   "source": [
    "4\\. Create a new column with the absolute time in ns (as a combination of the other three columns with timing information)."
   ]
  },
  {
   "cell_type": "code",
   "execution_count": 85,
   "metadata": {},
   "outputs": [
    {
     "name": "stdout",
     "output_type": "stream",
     "text": [
      "         HEAD  FPGA  TDC_CHANNEL   ORBIT_CNT  BX_COUNTER  TDC_MEAS  \\\n",
      "0           1     0          123  3869200167        2374        26   \n",
      "1           1     0          124  3869200167        2374        27   \n",
      "2           1     0           63  3869200167        2553        28   \n",
      "3           1     0           64  3869200167        2558        19   \n",
      "4           1     0           64  3869200167        2760        25   \n",
      "...       ...   ...          ...         ...         ...       ...   \n",
      "1310715     1     0           62  3869211171         762        14   \n",
      "1310716     1     1            4  3869211171         763        11   \n",
      "1310717     1     0           64  3869211171         764         0   \n",
      "1310718     1     0          139  3869211171         769         0   \n",
      "1310719     1     0           61  3869211171         762        18   \n",
      "\n",
      "               timens  \n",
      "0        0.000000e+00  \n",
      "1        8.333333e-01  \n",
      "2        4.476667e+03  \n",
      "3        4.594167e+03  \n",
      "4        9.649167e+03  \n",
      "...               ...  \n",
      "1310715  9.804161e+08  \n",
      "1310716  9.804161e+08  \n",
      "1310717  9.804161e+08  \n",
      "1310718  9.804163e+08  \n",
      "1310719  9.804161e+08  \n",
      "\n",
      "[1310720 rows x 7 columns]\n"
     ]
    }
   ],
   "source": [
    "data['timens'] = (data['ORBIT_CNT']-data['ORBIT_CNT'][0])*x*25 + (data['BX_COUNTER']-data['BX_COUNTER'][0])*25 + (data['TDC_MEAS']-data['TDC_MEAS'][0])*25/30\n",
    "\n",
    "print(data)\n"
   ]
  },
  {
   "cell_type": "markdown",
   "metadata": {},
   "source": [
    "5\\. Replace the values (all 1) of the HEAD column randomly with 0 or 1."
   ]
  },
  {
   "cell_type": "code",
   "execution_count": 103,
   "metadata": {},
   "outputs": [
    {
     "name": "stderr",
     "output_type": "stream",
     "text": [
      "/tmp/ipykernel_760/3965094984.py:5: SettingWithCopyWarning: \n",
      "A value is trying to be set on a copy of a slice from a DataFrame\n",
      "\n",
      "See the caveats in the documentation: https://pandas.pydata.org/pandas-docs/stable/user_guide/indexing.html#returning-a-view-versus-a-copy\n",
      "  data['HEAD'][i] = random.randrange(2)\n"
     ]
    },
    {
     "ename": "KeyboardInterrupt",
     "evalue": "",
     "output_type": "error",
     "traceback": [
      "\u001b[0;31m---------------------------------------------------------------------------\u001b[0m",
      "\u001b[0;31mKeyboardInterrupt\u001b[0m                         Traceback (most recent call last)",
      "Cell \u001b[0;32mIn [103], line 5\u001b[0m\n\u001b[1;32m      3\u001b[0m mask \u001b[39m=\u001b[39m[]\n\u001b[1;32m      4\u001b[0m \u001b[39mfor\u001b[39;00m i \u001b[39min\u001b[39;00m \u001b[39mrange\u001b[39m(\u001b[39mlen\u001b[39m(data)):\n\u001b[0;32m----> 5\u001b[0m     data[\u001b[39m'\u001b[39;49m\u001b[39mHEAD\u001b[39;49m\u001b[39m'\u001b[39;49m][i] \u001b[39m=\u001b[39m random\u001b[39m.\u001b[39mrandrange(\u001b[39m2\u001b[39m)\n\u001b[1;32m      7\u001b[0m \u001b[39mprint\u001b[39m(data[\u001b[39m'\u001b[39m\u001b[39mHEAD\u001b[39m\u001b[39m'\u001b[39m])\n",
      "File \u001b[0;32m~/.local/lib/python3.8/site-packages/pandas/core/series.py:1075\u001b[0m, in \u001b[0;36mSeries.__setitem__\u001b[0;34m(self, key, value)\u001b[0m\n\u001b[1;32m   1073\u001b[0m check_deprecated_indexers(key)\n\u001b[1;32m   1074\u001b[0m key \u001b[39m=\u001b[39m com\u001b[39m.\u001b[39mapply_if_callable(key, \u001b[39mself\u001b[39m)\n\u001b[0;32m-> 1075\u001b[0m cacher_needs_updating \u001b[39m=\u001b[39m \u001b[39mself\u001b[39;49m\u001b[39m.\u001b[39;49m_check_is_chained_assignment_possible()\n\u001b[1;32m   1077\u001b[0m \u001b[39mif\u001b[39;00m key \u001b[39mis\u001b[39;00m \u001b[39mEllipsis\u001b[39m:\n\u001b[1;32m   1078\u001b[0m     key \u001b[39m=\u001b[39m \u001b[39mslice\u001b[39m(\u001b[39mNone\u001b[39;00m)\n",
      "File \u001b[0;32m~/.local/lib/python3.8/site-packages/pandas/core/series.py:1256\u001b[0m, in \u001b[0;36mSeries._check_is_chained_assignment_possible\u001b[0;34m(self)\u001b[0m\n\u001b[1;32m   1254\u001b[0m     ref \u001b[39m=\u001b[39m \u001b[39mself\u001b[39m\u001b[39m.\u001b[39m_get_cacher()\n\u001b[1;32m   1255\u001b[0m     \u001b[39mif\u001b[39;00m ref \u001b[39mis\u001b[39;00m \u001b[39mnot\u001b[39;00m \u001b[39mNone\u001b[39;00m \u001b[39mand\u001b[39;00m ref\u001b[39m.\u001b[39m_is_mixed_type:\n\u001b[0;32m-> 1256\u001b[0m         \u001b[39mself\u001b[39;49m\u001b[39m.\u001b[39;49m_check_setitem_copy(t\u001b[39m=\u001b[39;49m\u001b[39m\"\u001b[39;49m\u001b[39mreferent\u001b[39;49m\u001b[39m\"\u001b[39;49m, force\u001b[39m=\u001b[39;49m\u001b[39mTrue\u001b[39;49;00m)\n\u001b[1;32m   1257\u001b[0m     \u001b[39mreturn\u001b[39;00m \u001b[39mTrue\u001b[39;00m\n\u001b[1;32m   1258\u001b[0m \u001b[39mreturn\u001b[39;00m \u001b[39msuper\u001b[39m()\u001b[39m.\u001b[39m_check_is_chained_assignment_possible()\n",
      "File \u001b[0;32m~/.local/lib/python3.8/site-packages/pandas/core/generic.py:4018\u001b[0m, in \u001b[0;36mNDFrame._check_setitem_copy\u001b[0;34m(self, t, force)\u001b[0m\n\u001b[1;32m   4016\u001b[0m     \u001b[39mraise\u001b[39;00m com\u001b[39m.\u001b[39mSettingWithCopyError(t)\n\u001b[1;32m   4017\u001b[0m \u001b[39melif\u001b[39;00m value \u001b[39m==\u001b[39m \u001b[39m\"\u001b[39m\u001b[39mwarn\u001b[39m\u001b[39m\"\u001b[39m:\n\u001b[0;32m-> 4018\u001b[0m     warnings\u001b[39m.\u001b[39mwarn(t, com\u001b[39m.\u001b[39mSettingWithCopyWarning, stacklevel\u001b[39m=\u001b[39mfind_stack_level())\n",
      "File \u001b[0;32m~/.local/lib/python3.8/site-packages/pandas/util/_exceptions.py:32\u001b[0m, in \u001b[0;36mfind_stack_level\u001b[0;34m()\u001b[0m\n\u001b[1;32m     27\u001b[0m \u001b[39mdef\u001b[39;00m \u001b[39mfind_stack_level\u001b[39m() \u001b[39m-\u001b[39m\u001b[39m>\u001b[39m \u001b[39mint\u001b[39m:\n\u001b[1;32m     28\u001b[0m     \u001b[39m\"\"\"\u001b[39;00m\n\u001b[1;32m     29\u001b[0m \u001b[39m    Find the first place in the stack that is not inside pandas\u001b[39;00m\n\u001b[1;32m     30\u001b[0m \u001b[39m    (tests notwithstanding).\u001b[39;00m\n\u001b[1;32m     31\u001b[0m \u001b[39m    \"\"\"\u001b[39;00m\n\u001b[0;32m---> 32\u001b[0m     stack \u001b[39m=\u001b[39m inspect\u001b[39m.\u001b[39;49mstack()\n\u001b[1;32m     34\u001b[0m     \u001b[39mimport\u001b[39;00m \u001b[39mpandas\u001b[39;00m \u001b[39mas\u001b[39;00m \u001b[39mpd\u001b[39;00m\n\u001b[1;32m     36\u001b[0m     pkg_dir \u001b[39m=\u001b[39m os\u001b[39m.\u001b[39mpath\u001b[39m.\u001b[39mdirname(pd\u001b[39m.\u001b[39m\u001b[39m__file__\u001b[39m)\n",
      "File \u001b[0;32m/usr/lib/python3.8/inspect.py:1526\u001b[0m, in \u001b[0;36mstack\u001b[0;34m(context)\u001b[0m\n\u001b[1;32m   1524\u001b[0m \u001b[39mdef\u001b[39;00m \u001b[39mstack\u001b[39m(context\u001b[39m=\u001b[39m\u001b[39m1\u001b[39m):\n\u001b[1;32m   1525\u001b[0m     \u001b[39m\"\"\"Return a list of records for the stack above the caller's frame.\"\"\"\u001b[39;00m\n\u001b[0;32m-> 1526\u001b[0m     \u001b[39mreturn\u001b[39;00m getouterframes(sys\u001b[39m.\u001b[39;49m_getframe(\u001b[39m1\u001b[39;49m), context)\n",
      "File \u001b[0;32m/usr/lib/python3.8/inspect.py:1503\u001b[0m, in \u001b[0;36mgetouterframes\u001b[0;34m(frame, context)\u001b[0m\n\u001b[1;32m   1501\u001b[0m framelist \u001b[39m=\u001b[39m []\n\u001b[1;32m   1502\u001b[0m \u001b[39mwhile\u001b[39;00m frame:\n\u001b[0;32m-> 1503\u001b[0m     frameinfo \u001b[39m=\u001b[39m (frame,) \u001b[39m+\u001b[39m getframeinfo(frame, context)\n\u001b[1;32m   1504\u001b[0m     framelist\u001b[39m.\u001b[39mappend(FrameInfo(\u001b[39m*\u001b[39mframeinfo))\n\u001b[1;32m   1505\u001b[0m     frame \u001b[39m=\u001b[39m frame\u001b[39m.\u001b[39mf_back\n",
      "File \u001b[0;32m/usr/lib/python3.8/inspect.py:1473\u001b[0m, in \u001b[0;36mgetframeinfo\u001b[0;34m(frame, context)\u001b[0m\n\u001b[1;32m   1470\u001b[0m \u001b[39mif\u001b[39;00m \u001b[39mnot\u001b[39;00m isframe(frame):\n\u001b[1;32m   1471\u001b[0m     \u001b[39mraise\u001b[39;00m \u001b[39mTypeError\u001b[39;00m(\u001b[39m'\u001b[39m\u001b[39m{!r}\u001b[39;00m\u001b[39m is not a frame or traceback object\u001b[39m\u001b[39m'\u001b[39m\u001b[39m.\u001b[39mformat(frame))\n\u001b[0;32m-> 1473\u001b[0m filename \u001b[39m=\u001b[39m getsourcefile(frame) \u001b[39mor\u001b[39;00m getfile(frame)\n\u001b[1;32m   1474\u001b[0m \u001b[39mif\u001b[39;00m context \u001b[39m>\u001b[39m \u001b[39m0\u001b[39m:\n\u001b[1;32m   1475\u001b[0m     start \u001b[39m=\u001b[39m lineno \u001b[39m-\u001b[39m \u001b[39m1\u001b[39m \u001b[39m-\u001b[39m context\u001b[39m/\u001b[39m\u001b[39m/\u001b[39m\u001b[39m2\u001b[39m\n",
      "File \u001b[0;32m/usr/lib/python3.8/inspect.py:708\u001b[0m, in \u001b[0;36mgetsourcefile\u001b[0;34m(object)\u001b[0m\n\u001b[1;32m    706\u001b[0m     \u001b[39mreturn\u001b[39;00m filename\n\u001b[1;32m    707\u001b[0m \u001b[39m# only return a non-existent filename if the module has a PEP 302 loader\u001b[39;00m\n\u001b[0;32m--> 708\u001b[0m \u001b[39mif\u001b[39;00m \u001b[39mgetattr\u001b[39m(getmodule(\u001b[39mobject\u001b[39;49m, filename), \u001b[39m'\u001b[39m\u001b[39m__loader__\u001b[39m\u001b[39m'\u001b[39m, \u001b[39mNone\u001b[39;00m) \u001b[39mis\u001b[39;00m \u001b[39mnot\u001b[39;00m \u001b[39mNone\u001b[39;00m:\n\u001b[1;32m    709\u001b[0m     \u001b[39mreturn\u001b[39;00m filename\n\u001b[1;32m    710\u001b[0m \u001b[39m# or it is in the linecache\u001b[39;00m\n",
      "File \u001b[0;32m/usr/lib/python3.8/inspect.py:747\u001b[0m, in \u001b[0;36mgetmodule\u001b[0;34m(object, _filename)\u001b[0m\n\u001b[1;32m    745\u001b[0m \u001b[39mif\u001b[39;00m ismodule(module) \u001b[39mand\u001b[39;00m \u001b[39mhasattr\u001b[39m(module, \u001b[39m'\u001b[39m\u001b[39m__file__\u001b[39m\u001b[39m'\u001b[39m):\n\u001b[1;32m    746\u001b[0m     f \u001b[39m=\u001b[39m module\u001b[39m.\u001b[39m\u001b[39m__file__\u001b[39m\n\u001b[0;32m--> 747\u001b[0m     \u001b[39mif\u001b[39;00m f \u001b[39m==\u001b[39;49m _filesbymodname\u001b[39m.\u001b[39;49mget(modname, \u001b[39mNone\u001b[39;49;00m):\n\u001b[1;32m    748\u001b[0m         \u001b[39m# Have already mapped this module, so skip it\u001b[39;00m\n\u001b[1;32m    749\u001b[0m         \u001b[39mcontinue\u001b[39;00m\n\u001b[1;32m    750\u001b[0m     _filesbymodname[modname] \u001b[39m=\u001b[39m f\n",
      "\u001b[0;31mKeyboardInterrupt\u001b[0m: "
     ]
    }
   ],
   "source": [
    "import random\n",
    "\n",
    "mask =[]\n",
    "for i in range(len(data)):\n",
    "    mask.append(random.randrange(2))\n",
    "\n",
    "data['HEAD'] = mask\n",
    "print(data['HEAD'])"
   ]
  },
  {
   "cell_type": "markdown",
   "metadata": {},
   "source": [
    "6\\. Create a new DataFrame that contains only the rows with HEAD=1."
   ]
  },
  {
   "cell_type": "markdown",
   "metadata": {},
   "source": [
    "7\\. Make two occupancy plots (one for each FPGA), i.e. plot the number of counts per TDC channel"
   ]
  },
  {
   "cell_type": "markdown",
   "metadata": {},
   "source": [
    "8\\. Use the groupby method to find out the noisy channels, i.e. the TDC channels with most counts (say the top 3)"
   ]
  },
  {
   "cell_type": "markdown",
   "metadata": {},
   "source": [
    "9\\. Count the number of unique orbits. Count the number of unique orbits with at least one measurement from TDC_CHANNEL=139"
   ]
  }
 ],
 "metadata": {
  "kernelspec": {
   "display_name": "Python 3.8.10 64-bit",
   "language": "python",
   "name": "python3"
  },
  "language_info": {
   "codemirror_mode": {
    "name": "ipython",
    "version": 3
   },
   "file_extension": ".py",
   "mimetype": "text/x-python",
   "name": "python",
   "nbconvert_exporter": "python",
   "pygments_lexer": "ipython3",
   "version": "3.8.10"
  },
  "vscode": {
   "interpreter": {
    "hash": "916dbcbb3f70747c44a77c7bcd40155683ae19c65e1c03b4aa3499c5328201f1"
   }
  }
 },
 "nbformat": 4,
 "nbformat_minor": 2
}
