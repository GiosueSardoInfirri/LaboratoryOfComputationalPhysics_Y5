{
 "cells": [
  {
   "cell_type": "markdown",
   "metadata": {},
   "source": [
    "## Pandas analysis\n",
    "\n",
    "This exercise consists in analyzing a dataset containg timing information from a series of Time-to-Digital-Converters (TDC) implemented in a couple of FPGAs. Each measurement (i.e. each row of the input file) consists of a flag that specifies the type of message ('HEAD', which in this case is always 1), two addresses of the TDC providing the signal ('FPGA' and 'TDC_CHANNEL'), and the timing information ('ORBIT_CNT', 'BX_COUNTER', and 'TDC_MEAS'). Each TDC count corresponds to $\\frac{25}{30}$ ns, whereas a unit of BX_COUNTER corresponds to 25 ns, and the ORBIT_CNT is increased every 'x' BX_COUNTER. This allows to store the time in a similar way to hours, minutes and seconds."
   ]
  },
  {
   "cell_type": "code",
   "execution_count": 124,
   "metadata": {},
   "outputs": [],
   "source": [
    "# If you didn't download it yet, please get the relevant file now!\n",
    "# !wget https://www.dropbox.com/s/xvjzaxzz3ysphme/data_000637.txt -P ~/data/\n",
    "\n",
    "#import antigravity"
   ]
  },
  {
   "cell_type": "markdown",
   "metadata": {},
   "source": [
    "1\\. Create a Pandas DataFrame reading N rows of the 'data_000637.txt' dataset. Choose N to be smaller than or equal to the maximum number of rows and larger that 10k."
   ]
  },
  {
   "cell_type": "code",
   "execution_count": 125,
   "metadata": {},
   "outputs": [],
   "source": [
    "import pandas as pd\n",
    "import numpy as np"
   ]
  },
  {
   "cell_type": "markdown",
   "metadata": {},
   "source": [
    "2\\. Find out the number of BX in a ORBIT (the value 'x')."
   ]
  },
  {
   "cell_type": "code",
   "execution_count": 126,
   "metadata": {},
   "outputs": [
    {
     "name": "stdout",
     "output_type": "stream",
     "text": [
      "3564\n"
     ]
    }
   ],
   "source": [
    "file_name=\"/home/giosue/data/data_000637.txt\"\n",
    "data=pd.read_csv(file_name)\n",
    "N = 15000\n",
    "\n",
    "dataN = data[:N]\n",
    "\n",
    "x = max(dataN['BX_COUNTER']) + 1\n",
    "print(x)\n"
   ]
  },
  {
   "cell_type": "markdown",
   "metadata": {},
   "source": [
    "3\\. Find out how much the data taking lasted. You can either make an estimate based on the fraction of the measurements (rows) you read, or perform this check precisely by reading out the whole dataset."
   ]
  },
  {
   "cell_type": "code",
   "execution_count": 127,
   "metadata": {},
   "outputs": [
    {
     "name": "stdout",
     "output_type": "stream",
     "text": [
      "Time in ns: 980447230.0\n",
      "Time in seconds: 0.9804472300000001\n"
     ]
    }
   ],
   "source": [
    "data['timens']=data['TDC_MEAS']*25/30+data['BX_COUNTER']*25\n",
    "\n",
    "maxns = max(data['timens'])\n",
    "orbits = data['ORBIT_CNT'][len(data['ORBIT_CNT'])-1] - data['ORBIT_CNT'][0]\n",
    "\n",
    "print('Time in ns:', maxns*orbits)\n",
    "print('Time in seconds:', maxns*orbits*1e-9)\n"
   ]
  },
  {
   "cell_type": "markdown",
   "metadata": {},
   "source": [
    "4\\. Create a new column with the absolute time in ns (as a combination of the other three columns with timing information)."
   ]
  },
  {
   "cell_type": "code",
   "execution_count": 128,
   "metadata": {},
   "outputs": [
    {
     "name": "stdout",
     "output_type": "stream",
     "text": [
      "         HEAD  FPGA  TDC_CHANNEL   ORBIT_CNT  BX_COUNTER  TDC_MEAS  \\\n",
      "0           1     0          123  3869200167        2374        26   \n",
      "1           1     0          124  3869200167        2374        27   \n",
      "2           1     0           63  3869200167        2553        28   \n",
      "3           1     0           64  3869200167        2558        19   \n",
      "4           1     0           64  3869200167        2760        25   \n",
      "...       ...   ...          ...         ...         ...       ...   \n",
      "1310715     1     0           62  3869211171         762        14   \n",
      "1310716     1     1            4  3869211171         763        11   \n",
      "1310717     1     0           64  3869211171         764         0   \n",
      "1310718     1     0          139  3869211171         769         0   \n",
      "1310719     1     0           61  3869211171         762        18   \n",
      "\n",
      "               timens  \n",
      "0        0.000000e+00  \n",
      "1        8.333333e-01  \n",
      "2        4.476667e+03  \n",
      "3        4.594167e+03  \n",
      "4        9.649167e+03  \n",
      "...               ...  \n",
      "1310715  9.804161e+08  \n",
      "1310716  9.804161e+08  \n",
      "1310717  9.804161e+08  \n",
      "1310718  9.804163e+08  \n",
      "1310719  9.804161e+08  \n",
      "\n",
      "[1310720 rows x 7 columns]\n"
     ]
    }
   ],
   "source": [
    "data['timens'] = (data['ORBIT_CNT']-data['ORBIT_CNT'][0])*x*25 + (data['BX_COUNTER']-data['BX_COUNTER'][0])*25 + (data['TDC_MEAS']-data['TDC_MEAS'][0])*25/30\n",
    "\n",
    "print(data)\n"
   ]
  },
  {
   "cell_type": "markdown",
   "metadata": {},
   "source": [
    "5\\. Replace the values (all 1) of the HEAD column randomly with 0 or 1."
   ]
  },
  {
   "cell_type": "code",
   "execution_count": 129,
   "metadata": {},
   "outputs": [
    {
     "name": "stdout",
     "output_type": "stream",
     "text": [
      "0          0\n",
      "1          0\n",
      "2          1\n",
      "3          0\n",
      "4          0\n",
      "          ..\n",
      "1310715    0\n",
      "1310716    1\n",
      "1310717    0\n",
      "1310718    0\n",
      "1310719    0\n",
      "Name: HEAD, Length: 1310720, dtype: int64\n"
     ]
    }
   ],
   "source": [
    "import random\n",
    "\n",
    "mask =[]\n",
    "for i in range(len(data)):\n",
    "    mask.append(random.randrange(2))\n",
    "\n",
    "data['HEAD'] = mask\n",
    "print(data['HEAD'])"
   ]
  },
  {
   "cell_type": "markdown",
   "metadata": {},
   "source": [
    "6\\. Create a new DataFrame that contains only the rows with HEAD=1."
   ]
  },
  {
   "cell_type": "code",
   "execution_count": 130,
   "metadata": {},
   "outputs": [
    {
     "data": {
      "text/html": [
       "<div>\n",
       "<style scoped>\n",
       "    .dataframe tbody tr th:only-of-type {\n",
       "        vertical-align: middle;\n",
       "    }\n",
       "\n",
       "    .dataframe tbody tr th {\n",
       "        vertical-align: top;\n",
       "    }\n",
       "\n",
       "    .dataframe thead th {\n",
       "        text-align: right;\n",
       "    }\n",
       "</style>\n",
       "<table border=\"1\" class=\"dataframe\">\n",
       "  <thead>\n",
       "    <tr style=\"text-align: right;\">\n",
       "      <th></th>\n",
       "      <th>HEAD</th>\n",
       "      <th>FPGA</th>\n",
       "      <th>TDC_CHANNEL</th>\n",
       "      <th>ORBIT_CNT</th>\n",
       "      <th>BX_COUNTER</th>\n",
       "      <th>TDC_MEAS</th>\n",
       "      <th>timens</th>\n",
       "    </tr>\n",
       "  </thead>\n",
       "  <tbody>\n",
       "    <tr>\n",
       "      <th>2</th>\n",
       "      <td>1</td>\n",
       "      <td>0</td>\n",
       "      <td>63</td>\n",
       "      <td>3869200167</td>\n",
       "      <td>2553</td>\n",
       "      <td>28</td>\n",
       "      <td>4.476667e+03</td>\n",
       "    </tr>\n",
       "    <tr>\n",
       "      <th>7</th>\n",
       "      <td>1</td>\n",
       "      <td>0</td>\n",
       "      <td>139</td>\n",
       "      <td>3869200167</td>\n",
       "      <td>2776</td>\n",
       "      <td>0</td>\n",
       "      <td>1.002833e+04</td>\n",
       "    </tr>\n",
       "    <tr>\n",
       "      <th>10</th>\n",
       "      <td>1</td>\n",
       "      <td>1</td>\n",
       "      <td>7</td>\n",
       "      <td>3869200167</td>\n",
       "      <td>2785</td>\n",
       "      <td>4</td>\n",
       "      <td>1.025667e+04</td>\n",
       "    </tr>\n",
       "    <tr>\n",
       "      <th>12</th>\n",
       "      <td>1</td>\n",
       "      <td>1</td>\n",
       "      <td>6</td>\n",
       "      <td>3869200167</td>\n",
       "      <td>2792</td>\n",
       "      <td>18</td>\n",
       "      <td>1.044333e+04</td>\n",
       "    </tr>\n",
       "    <tr>\n",
       "      <th>13</th>\n",
       "      <td>1</td>\n",
       "      <td>0</td>\n",
       "      <td>36</td>\n",
       "      <td>3869200167</td>\n",
       "      <td>2791</td>\n",
       "      <td>23</td>\n",
       "      <td>1.042250e+04</td>\n",
       "    </tr>\n",
       "    <tr>\n",
       "      <th>...</th>\n",
       "      <td>...</td>\n",
       "      <td>...</td>\n",
       "      <td>...</td>\n",
       "      <td>...</td>\n",
       "      <td>...</td>\n",
       "      <td>...</td>\n",
       "      <td>...</td>\n",
       "    </tr>\n",
       "    <tr>\n",
       "      <th>1310701</th>\n",
       "      <td>1</td>\n",
       "      <td>0</td>\n",
       "      <td>139</td>\n",
       "      <td>3869211171</td>\n",
       "      <td>21</td>\n",
       "      <td>0</td>\n",
       "      <td>9.803976e+08</td>\n",
       "    </tr>\n",
       "    <tr>\n",
       "      <th>1310703</th>\n",
       "      <td>1</td>\n",
       "      <td>0</td>\n",
       "      <td>25</td>\n",
       "      <td>3869211171</td>\n",
       "      <td>20</td>\n",
       "      <td>13</td>\n",
       "      <td>9.803975e+08</td>\n",
       "    </tr>\n",
       "    <tr>\n",
       "      <th>1310711</th>\n",
       "      <td>1</td>\n",
       "      <td>1</td>\n",
       "      <td>39</td>\n",
       "      <td>3869211171</td>\n",
       "      <td>430</td>\n",
       "      <td>0</td>\n",
       "      <td>9.804078e+08</td>\n",
       "    </tr>\n",
       "    <tr>\n",
       "      <th>1310714</th>\n",
       "      <td>1</td>\n",
       "      <td>0</td>\n",
       "      <td>60</td>\n",
       "      <td>3869211171</td>\n",
       "      <td>762</td>\n",
       "      <td>2</td>\n",
       "      <td>9.804161e+08</td>\n",
       "    </tr>\n",
       "    <tr>\n",
       "      <th>1310716</th>\n",
       "      <td>1</td>\n",
       "      <td>1</td>\n",
       "      <td>4</td>\n",
       "      <td>3869211171</td>\n",
       "      <td>763</td>\n",
       "      <td>11</td>\n",
       "      <td>9.804161e+08</td>\n",
       "    </tr>\n",
       "  </tbody>\n",
       "</table>\n",
       "<p>655581 rows × 7 columns</p>\n",
       "</div>"
      ],
      "text/plain": [
       "         HEAD  FPGA  TDC_CHANNEL   ORBIT_CNT  BX_COUNTER  TDC_MEAS  \\\n",
       "2           1     0           63  3869200167        2553        28   \n",
       "7           1     0          139  3869200167        2776         0   \n",
       "10          1     1            7  3869200167        2785         4   \n",
       "12          1     1            6  3869200167        2792        18   \n",
       "13          1     0           36  3869200167        2791        23   \n",
       "...       ...   ...          ...         ...         ...       ...   \n",
       "1310701     1     0          139  3869211171          21         0   \n",
       "1310703     1     0           25  3869211171          20        13   \n",
       "1310711     1     1           39  3869211171         430         0   \n",
       "1310714     1     0           60  3869211171         762         2   \n",
       "1310716     1     1            4  3869211171         763        11   \n",
       "\n",
       "               timens  \n",
       "2        4.476667e+03  \n",
       "7        1.002833e+04  \n",
       "10       1.025667e+04  \n",
       "12       1.044333e+04  \n",
       "13       1.042250e+04  \n",
       "...               ...  \n",
       "1310701  9.803976e+08  \n",
       "1310703  9.803975e+08  \n",
       "1310711  9.804078e+08  \n",
       "1310714  9.804161e+08  \n",
       "1310716  9.804161e+08  \n",
       "\n",
       "[655581 rows x 7 columns]"
      ]
     },
     "execution_count": 130,
     "metadata": {},
     "output_type": "execute_result"
    }
   ],
   "source": [
    "data_head1 = data[data['HEAD'] == 1]\n",
    "data_head1"
   ]
  },
  {
   "cell_type": "markdown",
   "metadata": {},
   "source": [
    "7\\. Make two occupancy plots (one for each FPGA), i.e. plot the number of counts per TDC channel"
   ]
  },
  {
   "cell_type": "code",
   "execution_count": 131,
   "metadata": {},
   "outputs": [
    {
     "data": {
      "image/png": "[encoded data removed]",
      "text/plain": [
       "<Figure size 640x480 with 1 Axes>"
      ]
     },
     "metadata": {},
     "output_type": "display_data"
    },
    {
     "data": {
      "image/png": "[encoded data removed]",
      "text/plain": [
       "<Figure size 640x480 with 1 Axes>"
      ]
     },
     "metadata": {},
     "output_type": "display_data"
    }
   ],
   "source": [
    "import matplotlib.pyplot as plt\n",
    "\n",
    "max_tdc = max(data['TDC_CHANNEL'])\n",
    "min_tdc = min(data['TDC_CHANNEL'])\n",
    "\n",
    "plt.hist(data[data['FPGA'] == 1]['TDC_CHANNEL'], max_tdc - min_tdc)\n",
    "plt.show()\n",
    "plt.hist(data[data['FPGA'] == 0]['TDC_CHANNEL'], max_tdc - min_tdc)\n",
    "plt.show()\n"
   ]
  },
  {
   "cell_type": "markdown",
   "metadata": {},
   "source": [
    "8\\. Use the groupby method to find out the noisy channels, i.e. the TDC channels with most counts (say the top 3)"
   ]
  },
  {
   "cell_type": "code",
   "execution_count": 146,
   "metadata": {},
   "outputs": [
    {
     "name": "stdout",
     "output_type": "stream",
     "text": [
      "TDC_CHANNEL\n",
      "63      64642\n",
      "64      66020\n",
      "139    108059\n",
      "Name: conti, dtype: int64\n"
     ]
    }
   ],
   "source": [
    "data['conti'] = 1\n",
    "data_grouped = data.groupby('TDC_CHANNEL')['conti'].sum()\n",
    "\n",
    "print(data_grouped.sort_values().tail(3))"
   ]
  },
  {
   "cell_type": "markdown",
   "metadata": {},
   "source": [
    "9\\. Count the number of unique orbits. Count the number of unique orbits with at least one measurement from TDC_CHANNEL=139"
   ]
  },
  {
   "cell_type": "code",
   "execution_count": 133,
   "metadata": {},
   "outputs": [
    {
     "name": "stdout",
     "output_type": "stream",
     "text": [
      "[ 43  85 127 ... 191 137  22]\n",
      "[ 4  8 11 ... 13 12  2]\n"
     ]
    }
   ],
   "source": [
    "print(np.unique(data['ORBIT_CNT'],return_counts=True)[1])\n",
    "print(np.unique(data[data['TDC_CHANNEL'] == 139]['ORBIT_CNT'],return_counts=True)[1])\n"
   ]
  }
 ],
 "metadata": {
  "kernelspec": {
   "display_name": "Python 3.8.10 64-bit",
   "language": "python",
   "name": "python3"
  },
  "language_info": {
   "codemirror_mode": {
    "name": "ipython",
    "version": 3
   },
   "file_extension": ".py",
   "mimetype": "text/x-python",
   "name": "python",
   "nbconvert_exporter": "python",
   "pygments_lexer": "ipython3",
   "version": "3.8.10"
  },
  "vscode": {
   "interpreter": {
    "hash": "916dbcbb3f70747c44a77c7bcd40155683ae19c65e1c03b4aa3499c5328201f1"
   }
  }
 },
 "nbformat": 4,
 "nbformat_minor": 2
}
