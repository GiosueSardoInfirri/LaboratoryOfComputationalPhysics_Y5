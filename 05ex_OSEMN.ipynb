{
 "cells": [
  {
   "cell_type": "markdown",
   "metadata": {},
   "source": [
    "# OSEMN Exercises"
   ]
  },
  {
   "cell_type": "code",
   "execution_count": 41,
   "metadata": {},
   "outputs": [],
   "source": [
    "%matplotlib inline\n",
    "import pandas as pd\n",
    "import numpy as np"
   ]
  },
  {
   "cell_type": "markdown",
   "metadata": {},
   "source": [
    "1\\. Create a random list of number and then save it to a text file named \"simple_data.txt\""
   ]
  },
  {
   "cell_type": "code",
   "execution_count": 42,
   "metadata": {},
   "outputs": [],
   "source": [
    "lenght = 100\n",
    "lista = np.random.rand(lenght)\n",
    "with open(\"simple_data.txt\", \"w\") as filein:\n",
    "    for i in lista:\n",
    "        filein.write(str(i) + \" \")"
   ]
  },
  {
   "cell_type": "markdown",
   "metadata": {},
   "source": [
    "2\\. Create a random matrix of 5x5 and then save it to a text file named \"data.txt\""
   ]
  },
  {
   "cell_type": "code",
   "execution_count": 43,
   "metadata": {},
   "outputs": [],
   "source": [
    "lenght = 5\n",
    "matrice = np.random.rand(lenght*lenght)\n",
    "with open(\"data.txt\", \"w\") as filein:\n",
    "    for i in range(0, lenght):\n",
    "        for j in range(0, lenght-1):\n",
    "            filein.write(str(matrice[5*i+j]) + \" \")\n",
    "        filein.write(str(matrice[5*i+4]) + \"\\n\")\n"
   ]
  },
  {
   "cell_type": "markdown",
   "metadata": {},
   "source": [
    "3\\. Load the saved txt file of point 2 and convert it to a csv file (by hand)"
   ]
  },
  {
   "cell_type": "code",
   "execution_count": 44,
   "metadata": {},
   "outputs": [],
   "source": [
    "import csv\n",
    "\n",
    "with open('data.txt', 'r') as filein:\n",
    "    dati = (linea.strip() for linea in filein)\n",
    "    linee = (linea.split(\"\\t\") for linea in dati)\n",
    "    with open('data.csv', 'w') as fileout:\n",
    "        csv.writer(fileout).writerows(linee)\n"
   ]
  },
  {
   "cell_type": "markdown",
   "metadata": {},
   "source": [
    "4\\. load the binary file named *credit_card.dat* and convert the data into the real credit-card number.\n",
    "Each line correspond to a credit card number.\n",
    "Each character is composed by 6 bit (even the space) and the last 4 bit are just a padding\n",
    "\n",
    "**hint**: use the `chr()` function to convert a number to a char"
   ]
  },
  {
   "cell_type": "code",
   "execution_count": 45,
   "metadata": {},
   "outputs": [
    {
     "name": "stdout",
     "output_type": "stream",
     "text": [
      "7648 5673 3775 2271\n",
      "3257 8247 3354 2266\n",
      "2722 0001 4011 6652\n",
      "0661 3063 3742 3150\n",
      "0432 1608 1462 4742\n",
      "5827 2027 8785 7303\n",
      "5774 8528 2087 1117\n",
      "8140 1210 6352 2845\n",
      "5764 1133 7301 7100\n",
      "6456 1737 4126 6726\n",
      "1228 8631 7382 0000\n",
      "7051 0160 5374 3166\n",
      "0618 3587 1630 6376\n",
      "1545 5454 7444 5636\n",
      "6735 3116 3202 6834\n",
      "7287 5011 1547 8413\n",
      "7033 2607 3328 4200\n",
      "2568 5244 1874 5024\n",
      "1684 2253 7570 7118\n",
      "0672 2576 0575 6631\n",
      "6332 8353 8787 1340\n",
      "1813 3361 1175 4211\n",
      "2477 6450 8840 2368\n",
      "5512 3505 2563 1326\n",
      "3083 7882 0621 0025\n",
      "4521 5148 8045 0334\n",
      "7563 3654 8713 5787\n",
      "8324 2664 0476 5561\n",
      "0565 2504 7168 3510\n",
      "5107 5507 1767 0738\n",
      "2462 1821 2448 1443\n",
      "2788 0638 6861 6554\n",
      "5851 5873 5474 0547\n",
      "0670 1004 4013 2655\n",
      "5874 5506 3048 0806\n",
      "2805 5401 8462 1260\n",
      "5083 8406 6310 1862\n",
      "1076 1445 3013 2266\n",
      "8440 4804 4844 5277\n",
      "4758 6141 0686 1387\n",
      "7586 0675 0315 2568\n",
      "2544 1258 7432 5165\n",
      "3474 5023 4434 5626\n",
      "1410 0270 0434 5086\n",
      "7315 4446 1104 4215\n",
      "0224 7742 8300 0266\n",
      "0170 2700 3145 0640\n",
      "2006 2437 8054 1600\n",
      "8142 4055 1776 0026\n",
      "3026 7380 1241 1084\n",
      "\n"
     ]
    }
   ],
   "source": [
    "with open(\"credit_card.dat\", \"r\") as filein:\n",
    "    n = 6\n",
    "    for line in filein:\n",
    "        line = [line[i:i+n] for i in range(0, len(line), n)]\n",
    "        line.remove(line[-1])\n",
    "        \n",
    "        newline = []\n",
    "        for elm in line:\n",
    "            elm = int(elm, 2)\n",
    "            newline.extend(chr(elm))\n",
    "            \n",
    "        newline = \"\".join(newline)\n",
    "        print(newline)\n"
   ]
  },
  {
   "cell_type": "markdown",
   "metadata": {},
   "source": [
    "5\\. Load the file \"user_data.json\", filter the data by the \"CreditCardType\" field equals to \"American Express\". Than save the data a to CSV."
   ]
  },
  {
   "cell_type": "code",
   "execution_count": 46,
   "metadata": {},
   "outputs": [
    {
     "name": "stdout",
     "output_type": "stream",
     "text": [
      "['2', 'Investment  Advisor', 'Clint_Thorpe5003@bulaffy.com', 'Clint Thorpe', '7083-8766-0251-2345', 'American Express']\n",
      "['12', 'Retail Trainee', 'Phillip_Carpenter9505@famism.biz', 'Phillip Carpenter', '3657-0088-0820-5247', 'American Express']\n",
      "['28', 'Project Manager', 'Russel_Graves1378@extex.org', 'Russel Graves', '6718-4818-8011-6024', 'American Express']\n",
      "['39', 'Stockbroker', 'Leanne_Newton1268@typill.biz', 'Leanne Newton', '5438-0816-4166-4847', 'American Express']\n",
      "['57', 'Budget Analyst', 'Tony_Giles1960@iatim.tech', 'Tony Giles', '8130-3425-7573-7745', 'American Express']\n",
      "['62', 'CNC Operator', 'Owen_Allcott5125@bauros.biz', 'Owen Allcott', '4156-0107-7210-2630', 'American Express']\n",
      "['68', 'Project Manager', 'Liam_Lynn3280@kideod.biz', 'Liam Lynn', '7152-3247-6053-2233', 'American Express']\n",
      "['74', 'Dentist', 'Regina_Woodcock5820@yahoo.com', 'Regina Woodcock', '0208-1753-3870-8002', 'American Express']\n",
      "['81', 'HR Specialist', 'Carter_Wallace9614@atink.com', 'Carter Wallace', '4256-7201-6717-4322', 'American Express']\n",
      "['92', 'Staffing Consultant', 'Maia_Stark2797@jiman.org', 'Maia Stark', '3851-1403-1734-6321', 'American Express']\n",
      "['97', 'Stockbroker', 'Ciara_Lomax982@bauros.biz', 'Ciara Lomax', '3702-3440-2472-5424', 'American Express']\n",
      "['116', 'Staffing Consultant', 'Isabel_Ellwood1475@fuliss.net', 'Isabel Ellwood', '3738-0882-0066-6683', 'American Express']\n",
      "['148', 'CNC Operator', 'Abdul_Townend2202@infotech44.tech', 'Abdul Townend', '4224-1226-3557-3448', 'American Express']\n",
      "['150', 'Fabricator', 'Caleb_Poulton1735@atink.com', 'Caleb Poulton', '8203-6875-5225-0341', 'American Express']\n",
      "['151', 'Restaurant Manager', 'Ronald_Lewis6777@deavo.com', 'Ronald Lewis', '7212-0155-5014-8471', 'American Express']\n",
      "['154', 'Bellman', 'Faith_Seymour3829@twace.org', 'Faith Seymour', '4170-5186-6887-6558', 'American Express']\n",
      "['169', 'Assistant Buyer', 'Anthony_Hancock9083@qater.org', 'Anthony Hancock', '0832-3357-6010-6550', 'American Express']\n",
      "['176', 'Healthcare Specialist', 'Isabella_Willson5478@nanoff.biz', 'Isabella Willson', '5177-4868-4623-0384', 'American Express']\n",
      "['182', 'Pharmacist', 'Stephanie_Darcy3298@bauros.biz', 'Stephanie Darcy', '0264-4020-5106-5576', 'American Express']\n",
      "['199', 'Investment  Advisor', 'Ryan_Kennedy5565@corti.com', 'Ryan Kennedy', '3166-6287-6242-7207', 'American Express']\n"
     ]
    }
   ],
   "source": [
    "import json\n",
    "\n",
    "with open ('user_data.json', 'r') as file_json:\n",
    "    dati = json.load(file_json)\n",
    "    with open ('user_data.csv', 'w') as fileout:\n",
    "        for element in dati:\n",
    "            if element[\"CreditCardType\"] == \"American Express\":\n",
    "                elements = []\n",
    "                for i in element.keys():\n",
    "                    elements.append(element[i])\n",
    "                csv.writer(fileout).writerow(elements)\n",
    "                print(elements)\n"
   ]
  },
  {
   "cell_type": "markdown",
   "metadata": {},
   "source": [
    "6\\. Load the file from this url: [https://www.dropbox.com/s/7u3lm737ogbqsg8/mushrooms_categorized.csv?dl=1](https://www.dropbox.com/s/7u3lm737ogbqsg8/mushrooms_categorized.csv?dl=1) with Pandas. \n",
    "+ Explore the data (see the info of the data)\n",
    "+ Draw the istogram of the 'class' field. Decribe wath yuou see\n"
   ]
  },
  {
   "cell_type": "code",
   "execution_count": 47,
   "metadata": {},
   "outputs": [
    {
     "data": {
      "text/plain": [
       "array([[<AxesSubplot: title={'center': 'class'}>]], dtype=object)"
      ]
     },
     "execution_count": 47,
     "metadata": {},
     "output_type": "execute_result"
    },
    {
     "data": {
      "image/png": "[encoded data removed]",
      "text/plain": [
       "<Figure size 640x480 with 1 Axes>"
      ]
     },
     "metadata": {},
     "output_type": "display_data"
    }
   ],
   "source": [
    "import pandas as pd\n",
    "URL = \"https://www.dropbox.com/s/7u3lm737ogbqsg8/mushrooms_categorized.csv?dl=1\"\n",
    "data = pd.read_csv(URL)\n",
    "data.hist(\"class\")\n",
    "# I see that there are tqo columns: one for class=0 and the other for class=1"
   ]
  },
  {
   "cell_type": "markdown",
   "metadata": {},
   "source": [
    "7\\. Load the remote file [https://www.dropbox.com/s/vkl89yce7xjdq4n/regression_generated.csv?dl=1](https://www.dropbox.com/s/vkl89yce7xjdq4n/regression_generated.csv?dl=1) with Pandas and plot a scatter plot all possible combination of the following fields:\n",
    "    \n",
    "  + features_1\n",
    "  + features_2\n",
    "  + features_3"
   ]
  },
  {
   "cell_type": "code",
   "execution_count": 61,
   "metadata": {},
   "outputs": [
    {
     "data": {
      "image/png": "[encoded data removed]",
      "text/plain": [
       "<Figure size 640x480 with 1 Axes>"
      ]
     },
     "metadata": {},
     "output_type": "display_data"
    },
    {
     "data": {
      "image/png": "[encoded data removed]",
      "text/plain": [
       "<Figure size 640x480 with 1 Axes>"
      ]
     },
     "metadata": {},
     "output_type": "display_data"
    },
    {
     "data": {
      "image/png": "[encoded data removed]",
      "text/plain": [
       "<Figure size 640x480 with 1 Axes>"
      ]
     },
     "metadata": {},
     "output_type": "display_data"
    }
   ],
   "source": [
    "import pandas as pd\n",
    "from matplotlib import pyplot as plt\n",
    "\n",
    "URL = \"https://www.dropbox.com/s/7u3lm737ogbqsg8/mushrooms_categorized.csv?dl=1\"\n",
    "data = pd.read_csv(URL)\n",
    "\n",
    "plt.scatter(data[data.keys()[0]], data[data.keys()[1]])\n",
    "plt.show()\n",
    "\n",
    "plt.scatter(data[data.keys()[1]], data[data.keys()[2]])\n",
    "plt.show()\n",
    "\n",
    "plt.scatter(data[data.keys()[2]], data[data.keys()[0]])\n",
    "plt.show()\n"
   ]
  },
  {
   "cell_type": "markdown",
   "metadata": {},
   "source": [
    "8\\. Load the same file of point 6, and convert the file to json with Pandas."
   ]
  },
  {
   "cell_type": "code",
   "execution_count": 64,
   "metadata": {},
   "outputs": [
    {
     "name": "stdout",
     "output_type": "stream",
     "text": [
      "   class  cap-shape  cap-surface  cap-color  bruises  odor  gill-attachment  \\\n",
      "0      1          5            2          4        1     6                1   \n",
      "1      0          5            2          9        1     0                1   \n",
      "\n",
      "   gill-spacing  gill-size  gill-color  ...  stalk-surface-below-ring  \\\n",
      "0             0          1           4  ...                         2   \n",
      "1             0          0           4  ...                         2   \n",
      "\n",
      "   stalk-color-above-ring  stalk-color-below-ring  veil-type  veil-color  \\\n",
      "0                       7                       7          0           2   \n",
      "1                       7                       7          0           2   \n",
      "\n",
      "   ring-number  ring-type  spore-print-color  population  habitat  \n",
      "0            1          4                  2           3        5  \n",
      "1            1          4                  3           2        1  \n",
      "\n",
      "[2 rows x 23 columns]\n"
     ]
    },
    {
     "ename": "TypeError",
     "evalue": "write() argument must be str, not None",
     "output_type": "error",
     "traceback": [
      "\u001b[0;31m---------------------------------------------------------------------------\u001b[0m",
      "\u001b[0;31mTypeError\u001b[0m                                 Traceback (most recent call last)",
      "Cell \u001b[0;32mIn [64], line 7\u001b[0m\n\u001b[1;32m      5\u001b[0m \u001b[39mprint\u001b[39m(data\u001b[39m.\u001b[39mhead(\u001b[39m2\u001b[39m))\n\u001b[1;32m      6\u001b[0m \u001b[39mwith\u001b[39;00m \u001b[39mopen\u001b[39m(\u001b[39m\"\u001b[39m\u001b[39mdropboxfile.json\u001b[39m\u001b[39m\"\u001b[39m, \u001b[39m'\u001b[39m\u001b[39mw\u001b[39m\u001b[39m'\u001b[39m) \u001b[39mas\u001b[39;00m fileout:\n\u001b[0;32m----> 7\u001b[0m     fileout\u001b[39m.\u001b[39;49mwrite(data\u001b[39m.\u001b[39;49mto_json(fileout))\n\u001b[1;32m      9\u001b[0m data \u001b[39m=\u001b[39m pd\u001b[39m.\u001b[39mread_json(\u001b[39m\"\u001b[39m\u001b[39mdropboxfile.json\u001b[39m\u001b[39m\"\u001b[39m, lines\u001b[39m=\u001b[39m\u001b[39mTrue\u001b[39;00m)\n\u001b[1;32m     10\u001b[0m \u001b[39mprint\u001b[39m(data\u001b[39m.\u001b[39mhead(\u001b[39m2\u001b[39m))\n",
      "\u001b[0;31mTypeError\u001b[0m: write() argument must be str, not None"
     ]
    }
   ],
   "source": [
    "import pandas as pd\n",
    "URL = \"https://www.dropbox.com/s/7u3lm737ogbqsg8/mushrooms_categorized.csv?dl=1\"\n",
    "data = pd.read_csv(URL)\n",
    "\n",
    "print(data.head(2))\n",
    "with open(\"dropboxfile.json\", 'w') as fileout:\n",
    "    fileout.write(data.to_json())\n",
    "\n",
    "data = pd.read_json(\"dropboxfile.json\", lines=True)\n",
    "print(data.head(2))"
   ]
  }
 ],
 "metadata": {
  "kernelspec": {
   "display_name": "Python 3.8.10 64-bit",
   "language": "python",
   "name": "python3"
  },
  "language_info": {
   "codemirror_mode": {
    "name": "ipython",
    "version": 3
   },
   "file_extension": ".py",
   "mimetype": "text/x-python",
   "name": "python",
   "nbconvert_exporter": "python",
   "pygments_lexer": "ipython3",
   "version": "3.8.10"
  },
  "vscode": {
   "interpreter": {
    "hash": "916dbcbb3f70747c44a77c7bcd40155683ae19c65e1c03b4aa3499c5328201f1"
   }
  }
 },
 "nbformat": 4,
 "nbformat_minor": 2
}
